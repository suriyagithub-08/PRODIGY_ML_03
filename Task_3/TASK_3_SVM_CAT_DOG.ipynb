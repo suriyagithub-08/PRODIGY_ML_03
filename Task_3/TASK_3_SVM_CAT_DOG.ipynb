{
 "cells": [
  {
   "cell_type": "code",
   "execution_count": 3,
   "id": "090ee023-a24e-4cc1-8447-9db6e4131235",
   "metadata": {},
   "outputs": [
    {
     "name": "stdout",
     "output_type": "stream",
     "text": [
      "Accuracy: 0.45\n"
     ]
    }
   ],
   "source": [
    "import os\n",
    "import cv2\n",
    "import numpy as np\n",
    "from sklearn import svm\n",
    "from sklearn.model_selection import train_test_split\n",
    "from sklearn.metrics import accuracy_score\n",
    "\n",
    "# loading images from the directory\n",
    "def load_images_from_folder(folder):\n",
    "    images = []\n",
    "    for filename in os.listdir(folder):\n",
    "        img = cv2.imread(os.path.join(folder, filename))\n",
    "        if img is not None:\n",
    "            images.append(img)\n",
    "    return images\n",
    "\n",
    "\n",
    "# extracting features....\n",
    "\n",
    "def extract_features(images):\n",
    "    features = []\n",
    "    for img in images:\n",
    "        resized_img = cv2.resize(img, (100, 100))  # resizing images to 100 x 100 pixels\n",
    "        features.append(resized_img.flatten())  \n",
    "    return features\n",
    "\n",
    "# define paths for training and testing dataset folder\n",
    "\n",
    "train_cat_folder = r\"C:\\Task_3\\train\\cat\"\n",
    "train_dog_folder = r\"C:\\Task_3\\train\\dog\"\n",
    "test_cat_folder = r\"C:\\Task_3\\test\\cat\"\n",
    "test_dog_folder = r\"C:\\Task_3\\test\\dog\"\n",
    "\n",
    "# load cat images for training\n",
    "cat_train_images = load_images_from_folder(train_cat_folder)\n",
    "\n",
    "# load dog images for training\n",
    "dog_train_images = load_images_from_folder(train_dog_folder)\n",
    "\n",
    "# load cat images for testing\n",
    "cat_test_images = load_images_from_folder(test_cat_folder)\n",
    "\n",
    "# load dog images for testing\n",
    "dog_test_images = load_images_from_folder(test_dog_folder)\n",
    "\n",
    "# extract features from cat and dog images\n",
    "cat_train_features = extract_features(cat_train_images)\n",
    "dog_train_features = extract_features(dog_train_images)\n",
    "\n",
    "cat_test_features = extract_features(cat_test_images)\n",
    "dog_test_features = extract_features(dog_test_images)\n",
    "\n",
    "# Create labels for cat and dog images\n",
    "\n",
    "cat_train_labels = np.zeros(len(cat_train_features))\n",
    "dog_train_labels = np.ones(len(dog_train_features))\n",
    "\n",
    "cat_test_labels = np.zeros(len(cat_test_features))\n",
    "dog_test_labels = np.ones(len(dog_test_features))\n",
    "\n",
    "# Concatenate features and labels\n",
    "X_train = np.concatenate((cat_train_features, dog_train_features), axis=0)\n",
    "y_train = np.concatenate((cat_train_labels, dog_train_labels), axis=0)\n",
    "\n",
    "X_test = np.concatenate((cat_test_features, dog_test_features), axis=0)\n",
    "y_test = np.concatenate((cat_test_labels, dog_test_labels), axis=0)\n",
    "\n",
    "# train the model using support vector machine algorithm\n",
    "# I used here linear model for simplicity\n",
    "svm_model = svm.SVC(kernel='linear')\n",
    "svm_model.fit(X_train, y_train)\n",
    "\n",
    "# Predict labels for the test set\n",
    "y_pred = svm_model.predict(X_test)\n",
    "\n",
    "# Calculate accuracy\n",
    "accuracy = accuracy_score(y_test, y_pred)\n",
    "print(\"Accuracy:\", accuracy)\n"
   ]
  },
  {
   "cell_type": "code",
   "execution_count": null,
   "id": "8eb8b562-ff4e-4d79-9bdf-cc77ca421fce",
   "metadata": {},
   "outputs": [],
   "source": []
  }
 ],
 "metadata": {
  "kernelspec": {
   "display_name": "Python 3 (ipykernel)",
   "language": "python",
   "name": "python3"
  },
  "language_info": {
   "codemirror_mode": {
    "name": "ipython",
    "version": 3
   },
   "file_extension": ".py",
   "mimetype": "text/x-python",
   "name": "python",
   "nbconvert_exporter": "python",
   "pygments_lexer": "ipython3",
   "version": "3.10.13"
  }
 },
 "nbformat": 4,
 "nbformat_minor": 5
}
